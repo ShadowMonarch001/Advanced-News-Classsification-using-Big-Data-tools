{
  "cells": [
    {
      "cell_type": "markdown",
      "metadata": {
        "id": "view-in-github",
        "colab_type": "text"
      },
      "source": [
        "<a href=\"https://colab.research.google.com/github/ShadowMonarch001/Advanced-News-Classsification-using-Big-Data-tools/blob/main/pyspark_newscategoryclassification.ipynb\" target=\"_parent\"><img src=\"https://colab.research.google.com/assets/colab-badge.svg\" alt=\"Open In Colab\"/></a>"
      ]
    },
    {
      "cell_type": "code",
      "execution_count": null,
      "id": "7e44cf9f",
      "metadata": {
        "execution": {
          "iopub.execute_input": "2022-03-23T08:56:08.809454Z",
          "iopub.status.busy": "2022-03-23T08:56:08.808975Z",
          "iopub.status.idle": "2022-03-23T08:56:52.269493Z",
          "shell.execute_reply": "2022-03-23T08:56:52.269019Z",
          "shell.execute_reply.started": "2022-03-23T07:44:33.272459Z"
        },
        "papermill": {
          "duration": 43.503558,
          "end_time": "2022-03-23T08:56:52.269664",
          "exception": false,
          "start_time": "2022-03-23T08:56:08.766106",
          "status": "completed"
        },
        "tags": [],
        "colab": {
          "base_uri": "https://localhost:8080/"
        },
        "id": "7e44cf9f",
        "outputId": "8a73024d-23dd-4f1a-a616-a2bc3683521f"
      },
      "outputs": [
        {
          "output_type": "stream",
          "name": "stdout",
          "text": [
            "Collecting pyspark\n",
            "  Downloading pyspark-3.5.1.tar.gz (317.0 MB)\n",
            "\u001b[2K     \u001b[90m━━━━━━━━━━━━━━━━━━━━━━━━━━━━━━━━━━━━━━━━\u001b[0m \u001b[32m317.0/317.0 MB\u001b[0m \u001b[31m2.5 MB/s\u001b[0m eta \u001b[36m0:00:00\u001b[0m\n",
            "\u001b[?25h  Preparing metadata (setup.py) ... \u001b[?25l\u001b[?25hdone\n",
            "Requirement already satisfied: py4j==0.10.9.7 in /usr/local/lib/python3.10/dist-packages (from pyspark) (0.10.9.7)\n",
            "Building wheels for collected packages: pyspark\n",
            "  Building wheel for pyspark (setup.py) ... \u001b[?25l\u001b[?25hdone\n",
            "  Created wheel for pyspark: filename=pyspark-3.5.1-py2.py3-none-any.whl size=317488491 sha256=e6ab27beee00da0b7a1777579496407bc5b0f98b7e353f05d23664d4ee0e15c9\n",
            "  Stored in directory: /root/.cache/pip/wheels/80/1d/60/2c256ed38dddce2fdd93be545214a63e02fbd8d74fb0b7f3a6\n",
            "Successfully built pyspark\n",
            "Installing collected packages: pyspark\n",
            "Successfully installed pyspark-3.5.1\n"
          ]
        }
      ],
      "source": [
        "!pip install pyspark"
      ]
    },
    {
      "cell_type": "code",
      "execution_count": null,
      "id": "18a0aedf",
      "metadata": {
        "execution": {
          "iopub.execute_input": "2022-03-23T08:56:52.585259Z",
          "iopub.status.busy": "2022-03-23T08:56:52.584439Z",
          "iopub.status.idle": "2022-03-23T08:56:52.615666Z",
          "shell.execute_reply": "2022-03-23T08:56:52.615185Z",
          "shell.execute_reply.started": "2022-03-23T07:45:29.140774Z"
        },
        "papermill": {
          "duration": 0.190664,
          "end_time": "2022-03-23T08:56:52.615785",
          "exception": false,
          "start_time": "2022-03-23T08:56:52.425121",
          "status": "completed"
        },
        "tags": [],
        "id": "18a0aedf"
      },
      "outputs": [],
      "source": [
        "import pyspark\n",
        "from pyspark import SparkContext\n",
        "from pyspark.sql import SparkSession\n",
        "import warnings\n",
        "warnings.filterwarnings('ignore')"
      ]
    },
    {
      "cell_type": "code",
      "execution_count": null,
      "id": "1a0918e2",
      "metadata": {
        "execution": {
          "iopub.execute_input": "2022-03-23T08:56:52.934014Z",
          "iopub.status.busy": "2022-03-23T08:56:52.933400Z",
          "iopub.status.idle": "2022-03-23T08:56:59.400588Z",
          "shell.execute_reply": "2022-03-23T08:56:59.400040Z",
          "shell.execute_reply.started": "2022-03-23T07:45:29.182325Z"
        },
        "papermill": {
          "duration": 6.632336,
          "end_time": "2022-03-23T08:56:59.400776",
          "exception": false,
          "start_time": "2022-03-23T08:56:52.768440",
          "status": "completed"
        },
        "tags": [],
        "id": "1a0918e2"
      },
      "outputs": [],
      "source": [
        "sc = SparkContext(master='local[2]')\n",
        "spark = SparkSession.builder.appName(\"News Classification\").getOrCreate()"
      ]
    },
    {
      "cell_type": "code",
      "source": [
        "from google.colab import drive\n",
        "drive.mount('/content/drive')"
      ],
      "metadata": {
        "id": "7SF6wC0-RB6m",
        "colab": {
          "base_uri": "https://localhost:8080/"
        },
        "outputId": "a19286d1-ef07-4a30-f0c9-0a8888df5d27"
      },
      "id": "7SF6wC0-RB6m",
      "execution_count": null,
      "outputs": [
        {
          "output_type": "stream",
          "name": "stdout",
          "text": [
            "Mounted at /content/drive\n"
          ]
        }
      ]
    },
    {
      "cell_type": "code",
      "execution_count": null,
      "id": "b964b639",
      "metadata": {
        "execution": {
          "iopub.execute_input": "2022-03-23T08:56:59.719754Z",
          "iopub.status.busy": "2022-03-23T08:56:59.718876Z",
          "iopub.status.idle": "2022-03-23T08:57:08.478718Z",
          "shell.execute_reply": "2022-03-23T08:57:08.479927Z",
          "shell.execute_reply.started": "2022-03-23T07:45:35.546177Z"
        },
        "papermill": {
          "duration": 8.924613,
          "end_time": "2022-03-23T08:57:08.480272",
          "exception": false,
          "start_time": "2022-03-23T08:56:59.555659",
          "status": "completed"
        },
        "tags": [],
        "id": "b964b639",
        "colab": {
          "base_uri": "https://localhost:8080/"
        },
        "outputId": "9c443277-bc84-423f-dd7b-9da52ac88cd8"
      },
      "outputs": [
        {
          "output_type": "stream",
          "name": "stdout",
          "text": [
            "+--------------------+---------+----------+--------------------+--------------------+--------------------+\n",
            "|             authors| category|      date|            headline|                link|   short_description|\n",
            "+--------------------+---------+----------+--------------------+--------------------+--------------------+\n",
            "|Carla K. Johnson, AP|U.S. NEWS|2022-09-23|Over 4 Million Am...|https://www.huffp...|Health experts sa...|\n",
            "|      Mary Papenfuss|U.S. NEWS|2022-09-23|American Airlines...|https://www.huffp...|He was subdued by...|\n",
            "|       Elyse Wanshel|   COMEDY|2022-09-23|23 Of The Funnies...|https://www.huffp...|\"Until you have a...|\n",
            "|    Caroline Bologna|PARENTING|2022-09-23|The Funniest Twee...|https://www.huffp...|\"Accidentally put...|\n",
            "|      Nina Golgowski|U.S. NEWS|2022-09-22|Woman Who Called ...|https://www.huffp...|Amy Cooper accuse...|\n",
            "+--------------------+---------+----------+--------------------+--------------------+--------------------+\n",
            "only showing top 5 rows\n",
            "\n"
          ]
        }
      ],
      "source": [
        "# read dataset\n",
        "df = spark.read.json(\"/content/drive/MyDrive/Classroom/News_Category_Dataset_v3.json\")\n",
        "df.show(5)"
      ]
    },
    {
      "cell_type": "code",
      "execution_count": null,
      "id": "8d90df88",
      "metadata": {
        "execution": {
          "iopub.execute_input": "2022-03-23T08:57:08.861786Z",
          "iopub.status.busy": "2022-03-23T08:57:08.860805Z",
          "iopub.status.idle": "2022-03-23T08:57:09.245844Z",
          "shell.execute_reply": "2022-03-23T08:57:09.244754Z",
          "shell.execute_reply.started": "2022-03-23T07:46:16.356342Z"
        },
        "papermill": {
          "duration": 0.566436,
          "end_time": "2022-03-23T08:57:09.246036",
          "exception": false,
          "start_time": "2022-03-23T08:57:08.679600",
          "status": "completed"
        },
        "tags": [],
        "id": "8d90df88",
        "colab": {
          "base_uri": "https://localhost:8080/"
        },
        "outputId": "20911ec0-c5ab-4ba8-dd99-d676c75faab8"
      },
      "outputs": [
        {
          "output_type": "stream",
          "name": "stdout",
          "text": [
            "+--------------------+--------------------+---------+\n",
            "|            headline|   short_description| category|\n",
            "+--------------------+--------------------+---------+\n",
            "|Over 4 Million Am...|Health experts sa...|U.S. NEWS|\n",
            "|American Airlines...|He was subdued by...|U.S. NEWS|\n",
            "|23 Of The Funnies...|\"Until you have a...|   COMEDY|\n",
            "|The Funniest Twee...|\"Accidentally put...|PARENTING|\n",
            "|Woman Who Called ...|Amy Cooper accuse...|U.S. NEWS|\n",
            "+--------------------+--------------------+---------+\n",
            "only showing top 5 rows\n",
            "\n"
          ]
        }
      ],
      "source": [
        "df = df.select(\"headline\",\"short_description\",\"category\")\n",
        "df.show(5)"
      ]
    },
    {
      "cell_type": "code",
      "execution_count": null,
      "id": "9c30ed87",
      "metadata": {
        "execution": {
          "iopub.execute_input": "2022-03-23T08:57:09.620014Z",
          "iopub.status.busy": "2022-03-23T08:57:09.619184Z",
          "iopub.status.idle": "2022-03-23T08:57:10.704751Z",
          "shell.execute_reply": "2022-03-23T08:57:10.705216Z",
          "shell.execute_reply.started": "2022-03-23T07:47:30.476196Z"
        },
        "papermill": {
          "duration": 1.263783,
          "end_time": "2022-03-23T08:57:10.705365",
          "exception": false,
          "start_time": "2022-03-23T08:57:09.441582",
          "status": "completed"
        },
        "tags": [],
        "id": "9c30ed87",
        "colab": {
          "base_uri": "https://localhost:8080/"
        },
        "outputId": "67696367-1e0a-4f9f-c143-60b6c8ac1699"
      },
      "outputs": [
        {
          "output_type": "execute_result",
          "data": {
            "text/plain": [
              "209527"
            ]
          },
          "metadata": {},
          "execution_count": 8
        }
      ],
      "source": [
        "df.count()"
      ]
    },
    {
      "cell_type": "code",
      "execution_count": null,
      "id": "e5a95a6c",
      "metadata": {
        "execution": {
          "iopub.execute_input": "2022-03-23T08:57:11.027274Z",
          "iopub.status.busy": "2022-03-23T08:57:11.025415Z",
          "iopub.status.idle": "2022-03-23T08:57:11.940543Z",
          "shell.execute_reply": "2022-03-23T08:57:11.939885Z",
          "shell.execute_reply.started": "2022-03-23T07:48:38.735921Z"
        },
        "papermill": {
          "duration": 1.079233,
          "end_time": "2022-03-23T08:57:11.940715",
          "exception": false,
          "start_time": "2022-03-23T08:57:10.861482",
          "status": "completed"
        },
        "tags": [],
        "id": "e5a95a6c",
        "colab": {
          "base_uri": "https://localhost:8080/"
        },
        "outputId": "4e06d5f5-1d80-4b51-9786-36fb806ee081"
      },
      "outputs": [
        {
          "output_type": "stream",
          "name": "stdout",
          "text": [
            "+--------------+-----+\n",
            "|      category|count|\n",
            "+--------------+-----+\n",
            "|      POLITICS|35602|\n",
            "|      WELLNESS|17945|\n",
            "| ENTERTAINMENT|17362|\n",
            "|        TRAVEL| 9900|\n",
            "|STYLE & BEAUTY| 9814|\n",
            "|     PARENTING| 8791|\n",
            "|HEALTHY LIVING| 6694|\n",
            "|  QUEER VOICES| 6347|\n",
            "|  FOOD & DRINK| 6340|\n",
            "|      BUSINESS| 5992|\n",
            "|        COMEDY| 5400|\n",
            "|        SPORTS| 5077|\n",
            "|  BLACK VOICES| 4583|\n",
            "| HOME & LIVING| 4320|\n",
            "|       PARENTS| 3955|\n",
            "| THE WORLDPOST| 3664|\n",
            "|      WEDDINGS| 3653|\n",
            "|         WOMEN| 3572|\n",
            "|         CRIME| 3562|\n",
            "|        IMPACT| 3484|\n",
            "+--------------+-----+\n",
            "only showing top 20 rows\n",
            "\n"
          ]
        }
      ],
      "source": [
        "df.groupby('category').count().sort('count', ascending=False).show()"
      ]
    },
    {
      "cell_type": "code",
      "execution_count": null,
      "id": "6eb55359",
      "metadata": {
        "execution": {
          "iopub.execute_input": "2022-03-23T08:57:12.419845Z",
          "iopub.status.busy": "2022-03-23T08:57:12.417806Z",
          "iopub.status.idle": "2022-03-23T08:57:14.370392Z",
          "shell.execute_reply": "2022-03-23T08:57:14.371745Z",
          "shell.execute_reply.started": "2022-03-23T07:49:36.385845Z"
        },
        "papermill": {
          "duration": 2.1698,
          "end_time": "2022-03-23T08:57:14.371987",
          "exception": false,
          "start_time": "2022-03-23T08:57:12.202187",
          "status": "completed"
        },
        "tags": [],
        "id": "6eb55359",
        "colab": {
          "base_uri": "https://localhost:8080/"
        },
        "outputId": "10000cad-aeb1-444d-b32e-9405dbdaeb12"
      },
      "outputs": [
        {
          "output_type": "stream",
          "name": "stdout",
          "text": [
            "Headline  0\n",
            "short_description  0\n",
            "category  0\n"
          ]
        }
      ],
      "source": [
        "# check for missing value\n",
        "print(\"Headline \", df.toPandas()['headline'].isnull().sum())\n",
        "print(\"short_description \", df.toPandas()['short_description'].isnull().sum())\n",
        "print(\"category \", df.toPandas()['category'].isnull().sum())"
      ]
    },
    {
      "cell_type": "code",
      "execution_count": null,
      "id": "cfc43f1e",
      "metadata": {
        "execution": {
          "iopub.execute_input": "2022-03-23T08:57:14.746872Z",
          "iopub.status.busy": "2022-03-23T08:57:14.746047Z",
          "iopub.status.idle": "2022-03-23T08:57:15.295746Z",
          "shell.execute_reply": "2022-03-23T08:57:15.296434Z",
          "shell.execute_reply.started": "2022-03-23T07:50:47.516071Z"
        },
        "papermill": {
          "duration": 0.724552,
          "end_time": "2022-03-23T08:57:15.296680",
          "exception": false,
          "start_time": "2022-03-23T08:57:14.572128",
          "status": "completed"
        },
        "tags": [],
        "id": "cfc43f1e",
        "colab": {
          "base_uri": "https://localhost:8080/"
        },
        "outputId": "852a07a2-f13c-43fb-d230-d1ddabc126ea"
      },
      "outputs": [
        {
          "output_type": "stream",
          "name": "stdout",
          "text": [
            "+--------------------+--------------+\n",
            "|         description|      category|\n",
            "+--------------------+--------------+\n",
            "|Over 4 Million Am...|     U.S. NEWS|\n",
            "|American Airlines...|     U.S. NEWS|\n",
            "|23 Of The Funnies...|        COMEDY|\n",
            "|The Funniest Twee...|     PARENTING|\n",
            "|Woman Who Called ...|     U.S. NEWS|\n",
            "|Cleaner Was Dead ...|     U.S. NEWS|\n",
            "|Reporter Gets Ado...|     U.S. NEWS|\n",
            "|Puerto Ricans Des...|    WORLD NEWS|\n",
            "|How A New Documen...|CULTURE & ARTS|\n",
            "|Biden At UN To Ca...|    WORLD NEWS|\n",
            "|World Cup Captain...|    WORLD NEWS|\n",
            "|Man Sets Himself ...|    WORLD NEWS|\n",
            "|Fiona Threatens T...|    WORLD NEWS|\n",
            "|Twitch Bans Gambl...|          TECH|\n",
            "|Virginia Thomas A...|     U.S. NEWS|\n",
            "|Russian Cosmonaut...|    WORLD NEWS|\n",
            "|'Reboot' Is A Cle...|CULTURE & ARTS|\n",
            "|Maury Wills, Base...|        SPORTS|\n",
            "|4 Russian-Control...|    WORLD NEWS|\n",
            "|Fiona Barrels Tow...|    WORLD NEWS|\n",
            "+--------------------+--------------+\n",
            "only showing top 20 rows\n",
            "\n"
          ]
        }
      ],
      "source": [
        "from pyspark.sql import functions as sf\n",
        "df = df.withColumn('description',\n",
        "                    sf.concat(sf.col('headline'),sf.lit(' '), sf.col('short_description')))\n",
        "\n",
        "# selecting only 2 columns\n",
        "df = df.select(\"description\",\"category\")\n",
        "df.show()"
      ]
    },
    {
      "cell_type": "code",
      "execution_count": null,
      "id": "15a7ee46",
      "metadata": {
        "execution": {
          "iopub.execute_input": "2022-03-23T08:57:15.633886Z",
          "iopub.status.busy": "2022-03-23T08:57:15.633016Z",
          "iopub.status.idle": "2022-03-23T08:57:15.634828Z",
          "shell.execute_reply": "2022-03-23T08:57:15.635253Z"
        },
        "papermill": {
          "duration": 0.164332,
          "end_time": "2022-03-23T08:57:15.635390",
          "exception": false,
          "start_time": "2022-03-23T08:57:15.471058",
          "status": "completed"
        },
        "tags": [],
        "id": "15a7ee46"
      },
      "outputs": [],
      "source": [
        "# test_df = spark.createDataFrame([(\"this is some\",\"this is some other\")],['1','2'])\n",
        "# test_df = test_df.withColumn('description',\n",
        "#                     sf.concat(sf.col('1'),sf.lit(' '), sf.col('2')))\n",
        "# test_df.show(truncate=False)"
      ]
    },
    {
      "cell_type": "markdown",
      "id": "7b44b166",
      "metadata": {
        "papermill": {
          "duration": 0.307331,
          "end_time": "2022-03-23T08:57:16.112939",
          "exception": false,
          "start_time": "2022-03-23T08:57:15.805608",
          "status": "completed"
        },
        "tags": [],
        "id": "7b44b166"
      },
      "source": [
        "### Feature Extraction\n",
        "\n",
        "build features\n",
        "+ count vectorizer\n",
        "+ tfIDF\n",
        "+ wordEmbeddings\n",
        "+ hashingTF\n",
        "+ etc...\n",
        "\n",
        "We have 2 things in Pipeline stages\n",
        "- Transformer\n",
        "- Estimator\n",
        "\n",
        "**Transformer** (Data to Data)\n",
        "\n",
        "Function that takes data and fit, transform them into augmented data or features\n",
        "i.e Extractors, Vectorizer, Scalers (Tokenizer, StopwordRemover, CountVectorizer, IDF)\n",
        "\n",
        "**Estimator** (Data to model)\n",
        "\n",
        "Function that takes data as input and fit the data and produces a model we can use to predict\n",
        "i.e LogisticRegression"
      ]
    },
    {
      "cell_type": "code",
      "execution_count": null,
      "id": "ca6b84bc",
      "metadata": {
        "execution": {
          "iopub.execute_input": "2022-03-23T08:57:16.546784Z",
          "iopub.status.busy": "2022-03-23T08:57:16.546166Z",
          "iopub.status.idle": "2022-03-23T08:57:16.662989Z",
          "shell.execute_reply": "2022-03-23T08:57:16.663456Z",
          "shell.execute_reply.started": "2022-03-23T08:08:08.305188Z"
        },
        "papermill": {
          "duration": 0.282801,
          "end_time": "2022-03-23T08:57:16.663700",
          "exception": false,
          "start_time": "2022-03-23T08:57:16.380899",
          "status": "completed"
        },
        "tags": [],
        "id": "ca6b84bc"
      },
      "outputs": [],
      "source": [
        "from pyspark.ml.feature import Tokenizer, StopWordsRemover, CountVectorizer, IDF, StringIndexer"
      ]
    },
    {
      "cell_type": "code",
      "execution_count": null,
      "id": "72953852",
      "metadata": {
        "execution": {
          "iopub.execute_input": "2022-03-23T08:57:16.988276Z",
          "iopub.status.busy": "2022-03-23T08:57:16.987431Z",
          "iopub.status.idle": "2022-03-23T08:57:16.993832Z",
          "shell.execute_reply": "2022-03-23T08:57:16.993367Z",
          "shell.execute_reply.started": "2022-03-23T08:08:09.355025Z"
        },
        "papermill": {
          "duration": 0.173011,
          "end_time": "2022-03-23T08:57:16.993957",
          "exception": false,
          "start_time": "2022-03-23T08:57:16.820946",
          "status": "completed"
        },
        "tags": [],
        "id": "72953852",
        "colab": {
          "base_uri": "https://localhost:8080/"
        },
        "outputId": "dd81355f-d4ba-47b1-e03c-2fb0e8c4b4ff"
      },
      "outputs": [
        {
          "output_type": "execute_result",
          "data": {
            "text/plain": [
              "['description', 'category']"
            ]
          },
          "metadata": {},
          "execution_count": 14
        }
      ],
      "source": [
        "df.columns"
      ]
    },
    {
      "cell_type": "code",
      "execution_count": null,
      "id": "b8aa9efa",
      "metadata": {
        "execution": {
          "iopub.execute_input": "2022-03-23T08:57:17.316527Z",
          "iopub.status.busy": "2022-03-23T08:57:17.315335Z",
          "iopub.status.idle": "2022-03-23T08:57:17.749369Z",
          "shell.execute_reply": "2022-03-23T08:57:17.748497Z",
          "shell.execute_reply.started": "2022-03-23T08:08:04.886215Z"
        },
        "papermill": {
          "duration": 0.598144,
          "end_time": "2022-03-23T08:57:17.749609",
          "exception": false,
          "start_time": "2022-03-23T08:57:17.151465",
          "status": "completed"
        },
        "tags": [],
        "id": "b8aa9efa",
        "colab": {
          "base_uri": "https://localhost:8080/"
        },
        "outputId": "d134454f-e8aa-4e17-8f5a-ad7011872579"
      },
      "outputs": [
        {
          "output_type": "stream",
          "name": "stdout",
          "text": [
            "+--------------------+--------------+\n",
            "|         description|      category|\n",
            "+--------------------+--------------+\n",
            "|Over 4 Million Am...|     U.S. NEWS|\n",
            "|American Airlines...|     U.S. NEWS|\n",
            "|23 Of The Funnies...|        COMEDY|\n",
            "|The Funniest Twee...|     PARENTING|\n",
            "|Woman Who Called ...|     U.S. NEWS|\n",
            "|Cleaner Was Dead ...|     U.S. NEWS|\n",
            "|Reporter Gets Ado...|     U.S. NEWS|\n",
            "|Puerto Ricans Des...|    WORLD NEWS|\n",
            "|How A New Documen...|CULTURE & ARTS|\n",
            "|Biden At UN To Ca...|    WORLD NEWS|\n",
            "|World Cup Captain...|    WORLD NEWS|\n",
            "|Man Sets Himself ...|    WORLD NEWS|\n",
            "|Fiona Threatens T...|    WORLD NEWS|\n",
            "|Twitch Bans Gambl...|          TECH|\n",
            "|Virginia Thomas A...|     U.S. NEWS|\n",
            "|Russian Cosmonaut...|    WORLD NEWS|\n",
            "|'Reboot' Is A Cle...|CULTURE & ARTS|\n",
            "|Maury Wills, Base...|        SPORTS|\n",
            "|4 Russian-Control...|    WORLD NEWS|\n",
            "|Fiona Barrels Tow...|    WORLD NEWS|\n",
            "+--------------------+--------------+\n",
            "only showing top 20 rows\n",
            "\n"
          ]
        }
      ],
      "source": [
        "import pyspark.sql.functions as f\n",
        "# df = dfRawData.where(f.col(\"X\").isin([\"CB\", \"CI\", \"CR\"]))\n",
        "df = df.where(f.col('description') != \" \")\n",
        "df.show()"
      ]
    },
    {
      "cell_type": "code",
      "execution_count": null,
      "id": "1241b810",
      "metadata": {
        "execution": {
          "iopub.execute_input": "2022-03-23T08:57:18.190827Z",
          "iopub.status.busy": "2022-03-23T08:57:18.190022Z",
          "iopub.status.idle": "2022-03-23T08:57:18.342428Z",
          "shell.execute_reply": "2022-03-23T08:57:18.341350Z",
          "shell.execute_reply.started": "2022-03-23T08:08:12.655524Z"
        },
        "papermill": {
          "duration": 0.314845,
          "end_time": "2022-03-23T08:57:18.342637",
          "exception": false,
          "start_time": "2022-03-23T08:57:18.027792",
          "status": "completed"
        },
        "tags": [],
        "id": "1241b810"
      },
      "outputs": [],
      "source": [
        "# stages for pipeline\n",
        "tokenizer = Tokenizer(inputCol='description',outputCol='mytokens')\n",
        "stopwordRemover = StopWordsRemover(inputCol='mytokens',outputCol='filtered_tokens')\n",
        "vectorizer = CountVectorizer(inputCol='filtered_tokens',outputCol='rawFeatures')\n",
        "idf = IDF(inputCol='rawFeatures',outputCol='vectorizedFeatures')"
      ]
    },
    {
      "cell_type": "code",
      "execution_count": null,
      "id": "12273352",
      "metadata": {
        "execution": {
          "iopub.execute_input": "2022-03-23T08:57:18.676362Z",
          "iopub.status.busy": "2022-03-23T08:57:18.675466Z",
          "iopub.status.idle": "2022-03-23T08:57:20.375835Z",
          "shell.execute_reply": "2022-03-23T08:57:20.376690Z",
          "shell.execute_reply.started": "2022-03-23T08:08:14.806000Z"
        },
        "papermill": {
          "duration": 1.871958,
          "end_time": "2022-03-23T08:57:20.376908",
          "exception": false,
          "start_time": "2022-03-23T08:57:18.504950",
          "status": "completed"
        },
        "tags": [],
        "id": "12273352",
        "colab": {
          "base_uri": "https://localhost:8080/"
        },
        "outputId": "a67703d4-b6a4-4742-9255-331998fdfc56"
      },
      "outputs": [
        {
          "output_type": "stream",
          "name": "stdout",
          "text": [
            "+--------------------+---------+-----+\n",
            "|         description| category|label|\n",
            "+--------------------+---------+-----+\n",
            "|Over 4 Million Am...|U.S. NEWS| 36.0|\n",
            "|American Airlines...|U.S. NEWS| 36.0|\n",
            "|23 Of The Funnies...|   COMEDY| 10.0|\n",
            "|The Funniest Twee...|PARENTING|  5.0|\n",
            "|Woman Who Called ...|U.S. NEWS| 36.0|\n",
            "+--------------------+---------+-----+\n",
            "only showing top 5 rows\n",
            "\n"
          ]
        }
      ],
      "source": [
        "# encode the label feature (category)\n",
        "labelEncoder = StringIndexer(inputCol='category',outputCol='label').fit(df)\n",
        "labelEncoder.transform(df).show(5)"
      ]
    },
    {
      "cell_type": "code",
      "execution_count": null,
      "id": "c88dbadb",
      "metadata": {
        "execution": {
          "iopub.execute_input": "2022-03-23T08:57:20.723586Z",
          "iopub.status.busy": "2022-03-23T08:57:20.722683Z",
          "iopub.status.idle": "2022-03-23T08:57:20.736437Z",
          "shell.execute_reply": "2022-03-23T08:57:20.736018Z",
          "shell.execute_reply.started": "2022-03-23T08:14:37.105673Z"
        },
        "papermill": {
          "duration": 0.175971,
          "end_time": "2022-03-23T08:57:20.736567",
          "exception": false,
          "start_time": "2022-03-23T08:57:20.560596",
          "status": "completed"
        },
        "tags": [],
        "id": "c88dbadb",
        "colab": {
          "base_uri": "https://localhost:8080/"
        },
        "outputId": "34318828-2bb3-43d2-b92d-e93e1e19391c"
      },
      "outputs": [
        {
          "output_type": "execute_result",
          "data": {
            "text/plain": [
              "['POLITICS',\n",
              " 'WELLNESS',\n",
              " 'ENTERTAINMENT',\n",
              " 'TRAVEL',\n",
              " 'STYLE & BEAUTY',\n",
              " 'PARENTING',\n",
              " 'HEALTHY LIVING',\n",
              " 'QUEER VOICES',\n",
              " 'FOOD & DRINK',\n",
              " 'BUSINESS',\n",
              " 'COMEDY',\n",
              " 'SPORTS',\n",
              " 'BLACK VOICES',\n",
              " 'HOME & LIVING',\n",
              " 'PARENTS',\n",
              " 'THE WORLDPOST',\n",
              " 'WEDDINGS',\n",
              " 'WOMEN',\n",
              " 'CRIME',\n",
              " 'IMPACT',\n",
              " 'DIVORCE',\n",
              " 'WORLD NEWS',\n",
              " 'MEDIA',\n",
              " 'WEIRD NEWS',\n",
              " 'GREEN',\n",
              " 'WORLDPOST',\n",
              " 'RELIGION',\n",
              " 'STYLE',\n",
              " 'SCIENCE',\n",
              " 'TECH',\n",
              " 'TASTE',\n",
              " 'MONEY',\n",
              " 'ARTS',\n",
              " 'ENVIRONMENT',\n",
              " 'FIFTY',\n",
              " 'GOOD NEWS',\n",
              " 'U.S. NEWS',\n",
              " 'ARTS & CULTURE',\n",
              " 'COLLEGE',\n",
              " 'LATINO VOICES',\n",
              " 'CULTURE & ARTS',\n",
              " 'EDUCATION']"
            ]
          },
          "metadata": {},
          "execution_count": 18
        }
      ],
      "source": [
        "labelEncoder.labels"
      ]
    },
    {
      "cell_type": "code",
      "execution_count": null,
      "id": "e7ea1d87",
      "metadata": {
        "execution": {
          "iopub.execute_input": "2022-03-23T08:57:21.061350Z",
          "iopub.status.busy": "2022-03-23T08:57:21.060819Z",
          "iopub.status.idle": "2022-03-23T08:57:21.067222Z",
          "shell.execute_reply": "2022-03-23T08:57:21.067843Z",
          "shell.execute_reply.started": "2022-03-23T03:49:26.149578Z"
        },
        "papermill": {
          "duration": 0.17282,
          "end_time": "2022-03-23T08:57:21.068042",
          "exception": false,
          "start_time": "2022-03-23T08:57:20.895222",
          "status": "completed"
        },
        "tags": [],
        "id": "e7ea1d87"
      },
      "outputs": [],
      "source": [
        "# labelEncoder.labels\n",
        "label_dict =  {\n",
        " 'POLITICS':0.0,\n",
        " 'ENTERTAINMENT':1.0,\n",
        " 'WORLD NEWS':2.0,\n",
        " 'QUEER VOICES':3.0,\n",
        " 'COMEDY':4.0,\n",
        " 'BLACK VOICES':5.0,\n",
        " 'SPORTS':6.0,\n",
        " 'MEDIA':7.0,\n",
        " 'WOMEN':8.0,\n",
        " 'WEIRD NEWS':9.0,\n",
        " 'CRIME':10.0,\n",
        " 'BUSINESS':11.0,\n",
        " 'LATINO VOICES':12.0,\n",
        " 'IMPACT':13.0,\n",
        " 'RELIGION':14.0,\n",
        " 'TRAVEL':15.0,\n",
        " 'STYLE':16.0,\n",
        " 'GREEN':17.0,\n",
        " 'PARENTS':18.0,\n",
        " 'TECH':20.0,\n",
        " 'HEALTHY LIVING':21.0,\n",
        " 'SCIENCE':22.0,\n",
        " 'EDUCATION':23.0,\n",
        " 'TASTE':24.0,\n",
        " 'ARTS & CULTURE':25.0,\n",
        " 'COLLEGE':26.0\n",
        "}"
      ]
    },
    {
      "cell_type": "code",
      "execution_count": null,
      "id": "4dd211d4",
      "metadata": {
        "execution": {
          "iopub.execute_input": "2022-03-23T08:57:21.395293Z",
          "iopub.status.busy": "2022-03-23T08:57:21.394198Z",
          "iopub.status.idle": "2022-03-23T08:57:21.977897Z",
          "shell.execute_reply": "2022-03-23T08:57:21.976889Z",
          "shell.execute_reply.started": "2022-03-23T08:16:00.670977Z"
        },
        "papermill": {
          "duration": 0.748992,
          "end_time": "2022-03-23T08:57:21.978107",
          "exception": false,
          "start_time": "2022-03-23T08:57:21.229115",
          "status": "completed"
        },
        "tags": [],
        "id": "4dd211d4",
        "colab": {
          "base_uri": "https://localhost:8080/"
        },
        "outputId": "024b341d-b833-4fe8-8025-915aae46ec64"
      },
      "outputs": [
        {
          "output_type": "stream",
          "name": "stdout",
          "text": [
            "+--------------------+---------+-----+\n",
            "|         description| category|label|\n",
            "+--------------------+---------+-----+\n",
            "|Over 4 Million Am...|U.S. NEWS| 36.0|\n",
            "|American Airlines...|U.S. NEWS| 36.0|\n",
            "|23 Of The Funnies...|   COMEDY| 10.0|\n",
            "|The Funniest Twee...|PARENTING|  5.0|\n",
            "|Woman Who Called ...|U.S. NEWS| 36.0|\n",
            "+--------------------+---------+-----+\n",
            "only showing top 5 rows\n",
            "\n"
          ]
        }
      ],
      "source": [
        "df = labelEncoder.transform(df)\n",
        "df.show(5)"
      ]
    },
    {
      "cell_type": "code",
      "execution_count": null,
      "id": "f7053e01",
      "metadata": {
        "execution": {
          "iopub.execute_input": "2022-03-23T08:57:22.357455Z",
          "iopub.status.busy": "2022-03-23T08:57:22.356370Z",
          "iopub.status.idle": "2022-03-23T08:57:22.379703Z",
          "shell.execute_reply": "2022-03-23T08:57:22.378408Z",
          "shell.execute_reply.started": "2022-03-23T08:21:44.390201Z"
        },
        "papermill": {
          "duration": 0.18734,
          "end_time": "2022-03-23T08:57:22.379873",
          "exception": false,
          "start_time": "2022-03-23T08:57:22.192533",
          "status": "completed"
        },
        "tags": [],
        "id": "f7053e01"
      },
      "outputs": [],
      "source": [
        "# split dataset\n",
        "(train_df,test_df) = df.randomSplit((0.7,0.3),seed=42)"
      ]
    },
    {
      "cell_type": "code",
      "execution_count": null,
      "id": "015dd106",
      "metadata": {
        "execution": {
          "iopub.execute_input": "2022-03-23T08:57:22.702503Z",
          "iopub.status.busy": "2022-03-23T08:57:22.701535Z",
          "iopub.status.idle": "2022-03-23T08:57:22.704991Z",
          "shell.execute_reply": "2022-03-23T08:57:22.704491Z",
          "shell.execute_reply.started": "2022-03-23T08:21:44.849983Z"
        },
        "papermill": {
          "duration": 0.165878,
          "end_time": "2022-03-23T08:57:22.705114",
          "exception": false,
          "start_time": "2022-03-23T08:57:22.539236",
          "status": "completed"
        },
        "tags": [],
        "id": "015dd106"
      },
      "outputs": [],
      "source": [
        "from pyspark.ml.classification import LogisticRegression"
      ]
    },
    {
      "cell_type": "code",
      "execution_count": null,
      "id": "72a4d1ee",
      "metadata": {
        "execution": {
          "iopub.execute_input": "2022-03-23T08:57:23.028850Z",
          "iopub.status.busy": "2022-03-23T08:57:23.027330Z",
          "iopub.status.idle": "2022-03-23T08:57:23.067781Z",
          "shell.execute_reply": "2022-03-23T08:57:23.067304Z",
          "shell.execute_reply.started": "2022-03-23T08:21:45.449790Z"
        },
        "papermill": {
          "duration": 0.20612,
          "end_time": "2022-03-23T08:57:23.067913",
          "exception": false,
          "start_time": "2022-03-23T08:57:22.861793",
          "status": "completed"
        },
        "tags": [],
        "id": "72a4d1ee"
      },
      "outputs": [],
      "source": [
        "lr = LogisticRegression(featuresCol='vectorizedFeatures',labelCol='label')"
      ]
    },
    {
      "cell_type": "code",
      "execution_count": null,
      "id": "8d64330e",
      "metadata": {
        "execution": {
          "iopub.execute_input": "2022-03-23T08:57:23.389800Z",
          "iopub.status.busy": "2022-03-23T08:57:23.388988Z",
          "iopub.status.idle": "2022-03-23T08:57:23.391636Z",
          "shell.execute_reply": "2022-03-23T08:57:23.391201Z",
          "shell.execute_reply.started": "2022-03-23T08:21:46.289742Z"
        },
        "papermill": {
          "duration": 0.166097,
          "end_time": "2022-03-23T08:57:23.391759",
          "exception": false,
          "start_time": "2022-03-23T08:57:23.225662",
          "status": "completed"
        },
        "tags": [],
        "id": "8d64330e"
      },
      "outputs": [],
      "source": [
        "# building the pipeline\n",
        "from pyspark.ml import Pipeline"
      ]
    },
    {
      "cell_type": "code",
      "execution_count": null,
      "id": "29935ef7",
      "metadata": {
        "execution": {
          "iopub.execute_input": "2022-03-23T08:57:23.713672Z",
          "iopub.status.busy": "2022-03-23T08:57:23.712886Z",
          "iopub.status.idle": "2022-03-23T08:57:23.715380Z",
          "shell.execute_reply": "2022-03-23T08:57:23.714948Z",
          "shell.execute_reply.started": "2022-03-23T08:21:47.069494Z"
        },
        "papermill": {
          "duration": 0.165803,
          "end_time": "2022-03-23T08:57:23.715491",
          "exception": false,
          "start_time": "2022-03-23T08:57:23.549688",
          "status": "completed"
        },
        "tags": [],
        "id": "29935ef7"
      },
      "outputs": [],
      "source": [
        "pipeline = Pipeline(\n",
        "    stages = [tokenizer, stopwordRemover, vectorizer,idf,lr]\n",
        "    )"
      ]
    },
    {
      "cell_type": "code",
      "execution_count": null,
      "id": "a35da475",
      "metadata": {
        "execution": {
          "iopub.execute_input": "2022-03-23T08:57:24.041600Z",
          "iopub.status.busy": "2022-03-23T08:57:24.040873Z",
          "iopub.status.idle": "2022-03-23T08:57:24.043602Z",
          "shell.execute_reply": "2022-03-23T08:57:24.044047Z",
          "shell.execute_reply.started": "2022-03-23T08:23:49.332026Z"
        },
        "papermill": {
          "duration": 0.171615,
          "end_time": "2022-03-23T08:57:24.044183",
          "exception": false,
          "start_time": "2022-03-23T08:57:23.872568",
          "status": "completed"
        },
        "tags": [],
        "id": "a35da475",
        "colab": {
          "base_uri": "https://localhost:8080/"
        },
        "outputId": "f4cde32d-3705-4fc3-8e61-f8e4d05ffc5c"
      },
      "outputs": [
        {
          "output_type": "execute_result",
          "data": {
            "text/plain": [
              "Param(parent='Pipeline_e7edb9f25b7a', name='stages', doc='a list of pipeline stages')"
            ]
          },
          "metadata": {},
          "execution_count": 26
        }
      ],
      "source": [
        "pipeline.stages"
      ]
    },
    {
      "cell_type": "code",
      "source": [
        "import os       #importing os to set environment variable\n",
        "def install_java():\n",
        "  !apt-get install -y openjdk-8-jdk-headless -qq > /dev/null      #install openjdk\n",
        "  os.environ[\"JAVA_HOME\"] = \"/usr/lib/jvm/java-8-openjdk-amd64\"     #set environment variable\n",
        "  !java -version       #check java version\n",
        "install_java()"
      ],
      "metadata": {
        "colab": {
          "base_uri": "https://localhost:8080/"
        },
        "id": "0KmR9V8Kuo22",
        "outputId": "15923820-6526-4f81-f9d0-53cc76abc3b4"
      },
      "id": "0KmR9V8Kuo22",
      "execution_count": null,
      "outputs": [
        {
          "output_type": "stream",
          "name": "stdout",
          "text": [
            "openjdk version \"11.0.22\" 2024-01-16\n",
            "OpenJDK Runtime Environment (build 11.0.22+7-post-Ubuntu-0ubuntu222.04.1)\n",
            "OpenJDK 64-Bit Server VM (build 11.0.22+7-post-Ubuntu-0ubuntu222.04.1, mixed mode, sharing)\n"
          ]
        }
      ]
    },
    {
      "cell_type": "code",
      "execution_count": null,
      "id": "91ae6e98",
      "metadata": {
        "execution": {
          "iopub.execute_input": "2022-03-23T08:57:24.370841Z",
          "iopub.status.busy": "2022-03-23T08:57:24.370035Z",
          "iopub.status.idle": "2022-03-23T08:57:55.819552Z",
          "shell.execute_reply": "2022-03-23T08:57:55.820279Z",
          "shell.execute_reply.started": "2022-03-23T08:23:50.209542Z"
        },
        "papermill": {
          "duration": 31.616447,
          "end_time": "2022-03-23T08:57:55.820487",
          "exception": false,
          "start_time": "2022-03-23T08:57:24.204040",
          "status": "completed"
        },
        "tags": [],
        "id": "91ae6e98",
        "colab": {
          "base_uri": "https://localhost:8080/",
          "height": 807
        },
        "outputId": "a4dd0f55-eeac-4518-e96f-3af3ad1e381b"
      },
      "outputs": [
        {
          "output_type": "stream",
          "name": "stderr",
          "text": [
            "ERROR:root:Exception while sending command.\n",
            "Traceback (most recent call last):\n",
            "  File \"/usr/local/lib/python3.10/dist-packages/pyspark/errors/exceptions/captured.py\", line 179, in deco\n",
            "    return f(*a, **kw)\n",
            "  File \"/usr/local/lib/python3.10/dist-packages/py4j/protocol.py\", line 326, in get_return_value\n",
            "    raise Py4JJavaError(\n",
            "py4j.protocol.Py4JJavaError: <unprintable Py4JJavaError object>\n",
            "\n",
            "During handling of the above exception, another exception occurred:\n",
            "\n",
            "Traceback (most recent call last):\n",
            "  File \"/usr/local/lib/python3.10/dist-packages/py4j/clientserver.py\", line 516, in send_command\n",
            "    raise Py4JNetworkError(\"Answer from Java side is empty\")\n",
            "py4j.protocol.Py4JNetworkError: Answer from Java side is empty\n",
            "\n",
            "During handling of the above exception, another exception occurred:\n",
            "\n",
            "Traceback (most recent call last):\n",
            "  File \"/usr/local/lib/python3.10/dist-packages/py4j/java_gateway.py\", line 1038, in send_command\n",
            "    response = connection.send_command(command)\n",
            "  File \"/usr/local/lib/python3.10/dist-packages/py4j/clientserver.py\", line 539, in send_command\n",
            "    raise Py4JNetworkError(\n",
            "py4j.protocol.Py4JNetworkError: Error while sending or receiving\n"
          ]
        },
        {
          "output_type": "error",
          "ename": "Py4JError",
          "evalue": "py4j.reflection does not exist in the JVM",
          "traceback": [
            "\u001b[0;31m---------------------------------------------------------------------------\u001b[0m",
            "\u001b[0;31mPy4JJavaError\u001b[0m                             Traceback (most recent call last)",
            "\u001b[0;32m/usr/local/lib/python3.10/dist-packages/pyspark/errors/exceptions/captured.py\u001b[0m in \u001b[0;36mdeco\u001b[0;34m(*a, **kw)\u001b[0m\n\u001b[1;32m    178\u001b[0m         \u001b[0;32mtry\u001b[0m\u001b[0;34m:\u001b[0m\u001b[0;34m\u001b[0m\u001b[0;34m\u001b[0m\u001b[0m\n\u001b[0;32m--> 179\u001b[0;31m             \u001b[0;32mreturn\u001b[0m \u001b[0mf\u001b[0m\u001b[0;34m(\u001b[0m\u001b[0;34m*\u001b[0m\u001b[0ma\u001b[0m\u001b[0;34m,\u001b[0m \u001b[0;34m**\u001b[0m\u001b[0mkw\u001b[0m\u001b[0;34m)\u001b[0m\u001b[0;34m\u001b[0m\u001b[0;34m\u001b[0m\u001b[0m\n\u001b[0m\u001b[1;32m    180\u001b[0m         \u001b[0;32mexcept\u001b[0m \u001b[0mPy4JJavaError\u001b[0m \u001b[0;32mas\u001b[0m \u001b[0me\u001b[0m\u001b[0;34m:\u001b[0m\u001b[0;34m\u001b[0m\u001b[0;34m\u001b[0m\u001b[0m\n",
            "\u001b[0;32m/usr/local/lib/python3.10/dist-packages/py4j/protocol.py\u001b[0m in \u001b[0;36mget_return_value\u001b[0;34m(answer, gateway_client, target_id, name)\u001b[0m\n\u001b[1;32m    325\u001b[0m             \u001b[0;32mif\u001b[0m \u001b[0manswer\u001b[0m\u001b[0;34m[\u001b[0m\u001b[0;36m1\u001b[0m\u001b[0;34m]\u001b[0m \u001b[0;34m==\u001b[0m \u001b[0mREFERENCE_TYPE\u001b[0m\u001b[0;34m:\u001b[0m\u001b[0;34m\u001b[0m\u001b[0;34m\u001b[0m\u001b[0m\n\u001b[0;32m--> 326\u001b[0;31m                 raise Py4JJavaError(\n\u001b[0m\u001b[1;32m    327\u001b[0m                     \u001b[0;34m\"An error occurred while calling {0}{1}{2}.\\n\"\u001b[0m\u001b[0;34m.\u001b[0m\u001b[0;34m\u001b[0m\u001b[0;34m\u001b[0m\u001b[0m\n",
            "\u001b[0;31m<class 'str'>\u001b[0m: (<class 'ConnectionRefusedError'>, ConnectionRefusedError(111, 'Connection refused'))",
            "\nDuring handling of the above exception, another exception occurred:\n",
            "\u001b[0;31mPy4JError\u001b[0m                                 Traceback (most recent call last)",
            "\u001b[0;32m<ipython-input-28-b4faeff43470>\u001b[0m in \u001b[0;36m<cell line: 1>\u001b[0;34m()\u001b[0m\n\u001b[0;32m----> 1\u001b[0;31m \u001b[0mlr_model\u001b[0m \u001b[0;34m=\u001b[0m \u001b[0mpipeline\u001b[0m\u001b[0;34m.\u001b[0m\u001b[0mfit\u001b[0m\u001b[0;34m(\u001b[0m\u001b[0mtrain_df\u001b[0m\u001b[0;34m)\u001b[0m\u001b[0;34m\u001b[0m\u001b[0;34m\u001b[0m\u001b[0m\n\u001b[0m",
            "\u001b[0;32m/usr/local/lib/python3.10/dist-packages/pyspark/ml/base.py\u001b[0m in \u001b[0;36mfit\u001b[0;34m(self, dataset, params)\u001b[0m\n\u001b[1;32m    203\u001b[0m                 \u001b[0;32mreturn\u001b[0m \u001b[0mself\u001b[0m\u001b[0;34m.\u001b[0m\u001b[0mcopy\u001b[0m\u001b[0;34m(\u001b[0m\u001b[0mparams\u001b[0m\u001b[0;34m)\u001b[0m\u001b[0;34m.\u001b[0m\u001b[0m_fit\u001b[0m\u001b[0;34m(\u001b[0m\u001b[0mdataset\u001b[0m\u001b[0;34m)\u001b[0m\u001b[0;34m\u001b[0m\u001b[0;34m\u001b[0m\u001b[0m\n\u001b[1;32m    204\u001b[0m             \u001b[0;32melse\u001b[0m\u001b[0;34m:\u001b[0m\u001b[0;34m\u001b[0m\u001b[0;34m\u001b[0m\u001b[0m\n\u001b[0;32m--> 205\u001b[0;31m                 \u001b[0;32mreturn\u001b[0m \u001b[0mself\u001b[0m\u001b[0;34m.\u001b[0m\u001b[0m_fit\u001b[0m\u001b[0;34m(\u001b[0m\u001b[0mdataset\u001b[0m\u001b[0;34m)\u001b[0m\u001b[0;34m\u001b[0m\u001b[0;34m\u001b[0m\u001b[0m\n\u001b[0m\u001b[1;32m    206\u001b[0m         \u001b[0;32melse\u001b[0m\u001b[0;34m:\u001b[0m\u001b[0;34m\u001b[0m\u001b[0;34m\u001b[0m\u001b[0m\n\u001b[1;32m    207\u001b[0m             raise TypeError(\n",
            "\u001b[0;32m/usr/local/lib/python3.10/dist-packages/pyspark/ml/pipeline.py\u001b[0m in \u001b[0;36m_fit\u001b[0;34m(self, dataset)\u001b[0m\n\u001b[1;32m    132\u001b[0m                     \u001b[0mdataset\u001b[0m \u001b[0;34m=\u001b[0m \u001b[0mstage\u001b[0m\u001b[0;34m.\u001b[0m\u001b[0mtransform\u001b[0m\u001b[0;34m(\u001b[0m\u001b[0mdataset\u001b[0m\u001b[0;34m)\u001b[0m\u001b[0;34m\u001b[0m\u001b[0;34m\u001b[0m\u001b[0m\n\u001b[1;32m    133\u001b[0m                 \u001b[0;32melse\u001b[0m\u001b[0;34m:\u001b[0m  \u001b[0;31m# must be an Estimator\u001b[0m\u001b[0;34m\u001b[0m\u001b[0;34m\u001b[0m\u001b[0m\n\u001b[0;32m--> 134\u001b[0;31m                     \u001b[0mmodel\u001b[0m \u001b[0;34m=\u001b[0m \u001b[0mstage\u001b[0m\u001b[0;34m.\u001b[0m\u001b[0mfit\u001b[0m\u001b[0;34m(\u001b[0m\u001b[0mdataset\u001b[0m\u001b[0;34m)\u001b[0m\u001b[0;34m\u001b[0m\u001b[0;34m\u001b[0m\u001b[0m\n\u001b[0m\u001b[1;32m    135\u001b[0m                     \u001b[0mtransformers\u001b[0m\u001b[0;34m.\u001b[0m\u001b[0mappend\u001b[0m\u001b[0;34m(\u001b[0m\u001b[0mmodel\u001b[0m\u001b[0;34m)\u001b[0m\u001b[0;34m\u001b[0m\u001b[0;34m\u001b[0m\u001b[0m\n\u001b[1;32m    136\u001b[0m                     \u001b[0;32mif\u001b[0m \u001b[0mi\u001b[0m \u001b[0;34m<\u001b[0m \u001b[0mindexOfLastEstimator\u001b[0m\u001b[0;34m:\u001b[0m\u001b[0;34m\u001b[0m\u001b[0;34m\u001b[0m\u001b[0m\n",
            "\u001b[0;32m/usr/local/lib/python3.10/dist-packages/pyspark/ml/base.py\u001b[0m in \u001b[0;36mfit\u001b[0;34m(self, dataset, params)\u001b[0m\n\u001b[1;32m    203\u001b[0m                 \u001b[0;32mreturn\u001b[0m \u001b[0mself\u001b[0m\u001b[0;34m.\u001b[0m\u001b[0mcopy\u001b[0m\u001b[0;34m(\u001b[0m\u001b[0mparams\u001b[0m\u001b[0;34m)\u001b[0m\u001b[0;34m.\u001b[0m\u001b[0m_fit\u001b[0m\u001b[0;34m(\u001b[0m\u001b[0mdataset\u001b[0m\u001b[0;34m)\u001b[0m\u001b[0;34m\u001b[0m\u001b[0;34m\u001b[0m\u001b[0m\n\u001b[1;32m    204\u001b[0m             \u001b[0;32melse\u001b[0m\u001b[0;34m:\u001b[0m\u001b[0;34m\u001b[0m\u001b[0;34m\u001b[0m\u001b[0m\n\u001b[0;32m--> 205\u001b[0;31m                 \u001b[0;32mreturn\u001b[0m \u001b[0mself\u001b[0m\u001b[0;34m.\u001b[0m\u001b[0m_fit\u001b[0m\u001b[0;34m(\u001b[0m\u001b[0mdataset\u001b[0m\u001b[0;34m)\u001b[0m\u001b[0;34m\u001b[0m\u001b[0;34m\u001b[0m\u001b[0m\n\u001b[0m\u001b[1;32m    206\u001b[0m         \u001b[0;32melse\u001b[0m\u001b[0;34m:\u001b[0m\u001b[0;34m\u001b[0m\u001b[0;34m\u001b[0m\u001b[0m\n\u001b[1;32m    207\u001b[0m             raise TypeError(\n",
            "\u001b[0;32m/usr/local/lib/python3.10/dist-packages/pyspark/ml/wrapper.py\u001b[0m in \u001b[0;36m_fit\u001b[0;34m(self, dataset)\u001b[0m\n\u001b[1;32m    379\u001b[0m \u001b[0;34m\u001b[0m\u001b[0m\n\u001b[1;32m    380\u001b[0m     \u001b[0;32mdef\u001b[0m \u001b[0m_fit\u001b[0m\u001b[0;34m(\u001b[0m\u001b[0mself\u001b[0m\u001b[0;34m,\u001b[0m \u001b[0mdataset\u001b[0m\u001b[0;34m:\u001b[0m \u001b[0mDataFrame\u001b[0m\u001b[0;34m)\u001b[0m \u001b[0;34m->\u001b[0m \u001b[0mJM\u001b[0m\u001b[0;34m:\u001b[0m\u001b[0;34m\u001b[0m\u001b[0;34m\u001b[0m\u001b[0m\n\u001b[0;32m--> 381\u001b[0;31m         \u001b[0mjava_model\u001b[0m \u001b[0;34m=\u001b[0m \u001b[0mself\u001b[0m\u001b[0;34m.\u001b[0m\u001b[0m_fit_java\u001b[0m\u001b[0;34m(\u001b[0m\u001b[0mdataset\u001b[0m\u001b[0;34m)\u001b[0m\u001b[0;34m\u001b[0m\u001b[0;34m\u001b[0m\u001b[0m\n\u001b[0m\u001b[1;32m    382\u001b[0m         \u001b[0mmodel\u001b[0m \u001b[0;34m=\u001b[0m \u001b[0mself\u001b[0m\u001b[0;34m.\u001b[0m\u001b[0m_create_model\u001b[0m\u001b[0;34m(\u001b[0m\u001b[0mjava_model\u001b[0m\u001b[0;34m)\u001b[0m\u001b[0;34m\u001b[0m\u001b[0;34m\u001b[0m\u001b[0m\n\u001b[1;32m    383\u001b[0m         \u001b[0;32mreturn\u001b[0m \u001b[0mself\u001b[0m\u001b[0;34m.\u001b[0m\u001b[0m_copyValues\u001b[0m\u001b[0;34m(\u001b[0m\u001b[0mmodel\u001b[0m\u001b[0;34m)\u001b[0m\u001b[0;34m\u001b[0m\u001b[0;34m\u001b[0m\u001b[0m\n",
            "\u001b[0;32m/usr/local/lib/python3.10/dist-packages/pyspark/ml/wrapper.py\u001b[0m in \u001b[0;36m_fit_java\u001b[0;34m(self, dataset)\u001b[0m\n\u001b[1;32m    376\u001b[0m \u001b[0;34m\u001b[0m\u001b[0m\n\u001b[1;32m    377\u001b[0m         \u001b[0mself\u001b[0m\u001b[0;34m.\u001b[0m\u001b[0m_transfer_params_to_java\u001b[0m\u001b[0;34m(\u001b[0m\u001b[0;34m)\u001b[0m\u001b[0;34m\u001b[0m\u001b[0;34m\u001b[0m\u001b[0m\n\u001b[0;32m--> 378\u001b[0;31m         \u001b[0;32mreturn\u001b[0m \u001b[0mself\u001b[0m\u001b[0;34m.\u001b[0m\u001b[0m_java_obj\u001b[0m\u001b[0;34m.\u001b[0m\u001b[0mfit\u001b[0m\u001b[0;34m(\u001b[0m\u001b[0mdataset\u001b[0m\u001b[0;34m.\u001b[0m\u001b[0m_jdf\u001b[0m\u001b[0;34m)\u001b[0m\u001b[0;34m\u001b[0m\u001b[0;34m\u001b[0m\u001b[0m\n\u001b[0m\u001b[1;32m    379\u001b[0m \u001b[0;34m\u001b[0m\u001b[0m\n\u001b[1;32m    380\u001b[0m     \u001b[0;32mdef\u001b[0m \u001b[0m_fit\u001b[0m\u001b[0;34m(\u001b[0m\u001b[0mself\u001b[0m\u001b[0;34m,\u001b[0m \u001b[0mdataset\u001b[0m\u001b[0;34m:\u001b[0m \u001b[0mDataFrame\u001b[0m\u001b[0;34m)\u001b[0m \u001b[0;34m->\u001b[0m \u001b[0mJM\u001b[0m\u001b[0;34m:\u001b[0m\u001b[0;34m\u001b[0m\u001b[0;34m\u001b[0m\u001b[0m\n",
            "\u001b[0;32m/usr/local/lib/python3.10/dist-packages/py4j/java_gateway.py\u001b[0m in \u001b[0;36m__call__\u001b[0;34m(self, *args)\u001b[0m\n\u001b[1;32m   1320\u001b[0m \u001b[0;34m\u001b[0m\u001b[0m\n\u001b[1;32m   1321\u001b[0m         \u001b[0manswer\u001b[0m \u001b[0;34m=\u001b[0m \u001b[0mself\u001b[0m\u001b[0;34m.\u001b[0m\u001b[0mgateway_client\u001b[0m\u001b[0;34m.\u001b[0m\u001b[0msend_command\u001b[0m\u001b[0;34m(\u001b[0m\u001b[0mcommand\u001b[0m\u001b[0;34m)\u001b[0m\u001b[0;34m\u001b[0m\u001b[0;34m\u001b[0m\u001b[0m\n\u001b[0;32m-> 1322\u001b[0;31m         return_value = get_return_value(\n\u001b[0m\u001b[1;32m   1323\u001b[0m             answer, self.gateway_client, self.target_id, self.name)\n\u001b[1;32m   1324\u001b[0m \u001b[0;34m\u001b[0m\u001b[0m\n",
            "\u001b[0;32m/usr/local/lib/python3.10/dist-packages/pyspark/errors/exceptions/captured.py\u001b[0m in \u001b[0;36mdeco\u001b[0;34m(*a, **kw)\u001b[0m\n\u001b[1;32m    179\u001b[0m             \u001b[0;32mreturn\u001b[0m \u001b[0mf\u001b[0m\u001b[0;34m(\u001b[0m\u001b[0;34m*\u001b[0m\u001b[0ma\u001b[0m\u001b[0;34m,\u001b[0m \u001b[0;34m**\u001b[0m\u001b[0mkw\u001b[0m\u001b[0;34m)\u001b[0m\u001b[0;34m\u001b[0m\u001b[0;34m\u001b[0m\u001b[0m\n\u001b[1;32m    180\u001b[0m         \u001b[0;32mexcept\u001b[0m \u001b[0mPy4JJavaError\u001b[0m \u001b[0;32mas\u001b[0m \u001b[0me\u001b[0m\u001b[0;34m:\u001b[0m\u001b[0;34m\u001b[0m\u001b[0;34m\u001b[0m\u001b[0m\n\u001b[0;32m--> 181\u001b[0;31m             \u001b[0mconverted\u001b[0m \u001b[0;34m=\u001b[0m \u001b[0mconvert_exception\u001b[0m\u001b[0;34m(\u001b[0m\u001b[0me\u001b[0m\u001b[0;34m.\u001b[0m\u001b[0mjava_exception\u001b[0m\u001b[0;34m)\u001b[0m\u001b[0;34m\u001b[0m\u001b[0;34m\u001b[0m\u001b[0m\n\u001b[0m\u001b[1;32m    182\u001b[0m             \u001b[0;32mif\u001b[0m \u001b[0;32mnot\u001b[0m \u001b[0misinstance\u001b[0m\u001b[0;34m(\u001b[0m\u001b[0mconverted\u001b[0m\u001b[0;34m,\u001b[0m \u001b[0mUnknownException\u001b[0m\u001b[0;34m)\u001b[0m\u001b[0;34m:\u001b[0m\u001b[0;34m\u001b[0m\u001b[0;34m\u001b[0m\u001b[0m\n\u001b[1;32m    183\u001b[0m                 \u001b[0;31m# Hide where the exception came from that shows a non-Pythonic\u001b[0m\u001b[0;34m\u001b[0m\u001b[0;34m\u001b[0m\u001b[0m\n",
            "\u001b[0;32m/usr/local/lib/python3.10/dist-packages/pyspark/errors/exceptions/captured.py\u001b[0m in \u001b[0;36mconvert_exception\u001b[0;34m(e)\u001b[0m\n\u001b[1;32m    171\u001b[0m         \u001b[0;32mreturn\u001b[0m \u001b[0mPythonException\u001b[0m\u001b[0;34m(\u001b[0m\u001b[0mmsg\u001b[0m\u001b[0;34m,\u001b[0m \u001b[0mstacktrace\u001b[0m\u001b[0;34m)\u001b[0m\u001b[0;34m\u001b[0m\u001b[0;34m\u001b[0m\u001b[0m\n\u001b[1;32m    172\u001b[0m \u001b[0;34m\u001b[0m\u001b[0m\n\u001b[0;32m--> 173\u001b[0;31m     \u001b[0;32mreturn\u001b[0m \u001b[0mUnknownException\u001b[0m\u001b[0;34m(\u001b[0m\u001b[0mdesc\u001b[0m\u001b[0;34m=\u001b[0m\u001b[0me\u001b[0m\u001b[0;34m.\u001b[0m\u001b[0mtoString\u001b[0m\u001b[0;34m(\u001b[0m\u001b[0;34m)\u001b[0m\u001b[0;34m,\u001b[0m \u001b[0mstackTrace\u001b[0m\u001b[0;34m=\u001b[0m\u001b[0mstacktrace\u001b[0m\u001b[0;34m,\u001b[0m \u001b[0mcause\u001b[0m\u001b[0;34m=\u001b[0m\u001b[0mc\u001b[0m\u001b[0;34m)\u001b[0m\u001b[0;34m\u001b[0m\u001b[0;34m\u001b[0m\u001b[0m\n\u001b[0m\u001b[1;32m    174\u001b[0m \u001b[0;34m\u001b[0m\u001b[0m\n\u001b[1;32m    175\u001b[0m \u001b[0;34m\u001b[0m\u001b[0m\n",
            "\u001b[0;32m/usr/local/lib/python3.10/dist-packages/pyspark/errors/exceptions/captured.py\u001b[0m in \u001b[0;36m__init__\u001b[0;34m(self, desc, stackTrace, cause, origin)\u001b[0m\n\u001b[1;32m     63\u001b[0m             \u001b[0;32melse\u001b[0m \u001b[0;34m(\u001b[0m\u001b[0mSparkContext\u001b[0m\u001b[0;34m.\u001b[0m\u001b[0m_jvm\u001b[0m\u001b[0;34m.\u001b[0m\u001b[0morg\u001b[0m\u001b[0;34m.\u001b[0m\u001b[0mapache\u001b[0m\u001b[0;34m.\u001b[0m\u001b[0mspark\u001b[0m\u001b[0;34m.\u001b[0m\u001b[0mutil\u001b[0m\u001b[0;34m.\u001b[0m\u001b[0mUtils\u001b[0m\u001b[0;34m.\u001b[0m\u001b[0mexceptionString\u001b[0m\u001b[0;34m(\u001b[0m\u001b[0morigin\u001b[0m\u001b[0;34m)\u001b[0m\u001b[0;34m)\u001b[0m\u001b[0;34m\u001b[0m\u001b[0;34m\u001b[0m\u001b[0m\n\u001b[1;32m     64\u001b[0m         )\n\u001b[0;32m---> 65\u001b[0;31m         \u001b[0mself\u001b[0m\u001b[0;34m.\u001b[0m\u001b[0mcause\u001b[0m \u001b[0;34m=\u001b[0m \u001b[0mconvert_exception\u001b[0m\u001b[0;34m(\u001b[0m\u001b[0mcause\u001b[0m\u001b[0;34m)\u001b[0m \u001b[0;32mif\u001b[0m \u001b[0mcause\u001b[0m \u001b[0;32mis\u001b[0m \u001b[0;32mnot\u001b[0m \u001b[0;32mNone\u001b[0m \u001b[0;32melse\u001b[0m \u001b[0;32mNone\u001b[0m\u001b[0;34m\u001b[0m\u001b[0;34m\u001b[0m\u001b[0m\n\u001b[0m\u001b[1;32m     66\u001b[0m         \u001b[0;32mif\u001b[0m \u001b[0mself\u001b[0m\u001b[0;34m.\u001b[0m\u001b[0mcause\u001b[0m \u001b[0;32mis\u001b[0m \u001b[0;32mNone\u001b[0m \u001b[0;32mand\u001b[0m \u001b[0morigin\u001b[0m \u001b[0;32mis\u001b[0m \u001b[0;32mnot\u001b[0m \u001b[0;32mNone\u001b[0m \u001b[0;32mand\u001b[0m \u001b[0morigin\u001b[0m\u001b[0;34m.\u001b[0m\u001b[0mgetCause\u001b[0m\u001b[0;34m(\u001b[0m\u001b[0;34m)\u001b[0m \u001b[0;32mis\u001b[0m \u001b[0;32mnot\u001b[0m \u001b[0;32mNone\u001b[0m\u001b[0;34m:\u001b[0m\u001b[0;34m\u001b[0m\u001b[0;34m\u001b[0m\u001b[0m\n\u001b[1;32m     67\u001b[0m             \u001b[0mself\u001b[0m\u001b[0;34m.\u001b[0m\u001b[0mcause\u001b[0m \u001b[0;34m=\u001b[0m \u001b[0mconvert_exception\u001b[0m\u001b[0;34m(\u001b[0m\u001b[0morigin\u001b[0m\u001b[0;34m.\u001b[0m\u001b[0mgetCause\u001b[0m\u001b[0;34m(\u001b[0m\u001b[0;34m)\u001b[0m\u001b[0;34m)\u001b[0m\u001b[0;34m\u001b[0m\u001b[0;34m\u001b[0m\u001b[0m\n",
            "\u001b[0;32m/usr/local/lib/python3.10/dist-packages/pyspark/errors/exceptions/captured.py\u001b[0m in \u001b[0;36mconvert_exception\u001b[0;34m(e)\u001b[0m\n\u001b[1;32m    149\u001b[0m     \u001b[0;32melif\u001b[0m \u001b[0mis_instance_of\u001b[0m\u001b[0;34m(\u001b[0m\u001b[0mgw\u001b[0m\u001b[0;34m,\u001b[0m \u001b[0me\u001b[0m\u001b[0;34m,\u001b[0m \u001b[0;34m\"java.time.DateTimeException\"\u001b[0m\u001b[0;34m)\u001b[0m\u001b[0;34m:\u001b[0m\u001b[0;34m\u001b[0m\u001b[0;34m\u001b[0m\u001b[0m\n\u001b[1;32m    150\u001b[0m         \u001b[0;32mreturn\u001b[0m \u001b[0mDateTimeException\u001b[0m\u001b[0;34m(\u001b[0m\u001b[0morigin\u001b[0m\u001b[0;34m=\u001b[0m\u001b[0me\u001b[0m\u001b[0;34m)\u001b[0m\u001b[0;34m\u001b[0m\u001b[0;34m\u001b[0m\u001b[0m\n\u001b[0;32m--> 151\u001b[0;31m     \u001b[0;32melif\u001b[0m \u001b[0mis_instance_of\u001b[0m\u001b[0;34m(\u001b[0m\u001b[0mgw\u001b[0m\u001b[0;34m,\u001b[0m \u001b[0me\u001b[0m\u001b[0;34m,\u001b[0m \u001b[0;34m\"org.apache.spark.SparkRuntimeException\"\u001b[0m\u001b[0;34m)\u001b[0m\u001b[0;34m:\u001b[0m\u001b[0;34m\u001b[0m\u001b[0;34m\u001b[0m\u001b[0m\n\u001b[0m\u001b[1;32m    152\u001b[0m         \u001b[0;32mreturn\u001b[0m \u001b[0mSparkRuntimeException\u001b[0m\u001b[0;34m(\u001b[0m\u001b[0morigin\u001b[0m\u001b[0;34m=\u001b[0m\u001b[0me\u001b[0m\u001b[0;34m)\u001b[0m\u001b[0;34m\u001b[0m\u001b[0;34m\u001b[0m\u001b[0m\n\u001b[1;32m    153\u001b[0m     \u001b[0;32melif\u001b[0m \u001b[0mis_instance_of\u001b[0m\u001b[0;34m(\u001b[0m\u001b[0mgw\u001b[0m\u001b[0;34m,\u001b[0m \u001b[0me\u001b[0m\u001b[0;34m,\u001b[0m \u001b[0;34m\"org.apache.spark.SparkUpgradeException\"\u001b[0m\u001b[0;34m)\u001b[0m\u001b[0;34m:\u001b[0m\u001b[0;34m\u001b[0m\u001b[0;34m\u001b[0m\u001b[0m\n",
            "\u001b[0;32m/usr/local/lib/python3.10/dist-packages/py4j/java_gateway.py\u001b[0m in \u001b[0;36mis_instance_of\u001b[0;34m(gateway, java_object, java_class)\u001b[0m\n\u001b[1;32m    462\u001b[0m             \"java_class must be a string, a JavaClass, or a JavaObject\")\n\u001b[1;32m    463\u001b[0m \u001b[0;34m\u001b[0m\u001b[0m\n\u001b[0;32m--> 464\u001b[0;31m     return gateway.jvm.py4j.reflection.TypeUtil.isInstanceOf(\n\u001b[0m\u001b[1;32m    465\u001b[0m         param, java_object)\n\u001b[1;32m    466\u001b[0m \u001b[0;34m\u001b[0m\u001b[0m\n",
            "\u001b[0;32m/usr/local/lib/python3.10/dist-packages/py4j/java_gateway.py\u001b[0m in \u001b[0;36m__getattr__\u001b[0;34m(self, name)\u001b[0m\n\u001b[1;32m   1662\u001b[0m                 answer[proto.CLASS_FQN_START:], self._gateway_client)\n\u001b[1;32m   1663\u001b[0m         \u001b[0;32melse\u001b[0m\u001b[0;34m:\u001b[0m\u001b[0;34m\u001b[0m\u001b[0;34m\u001b[0m\u001b[0m\n\u001b[0;32m-> 1664\u001b[0;31m             \u001b[0;32mraise\u001b[0m \u001b[0mPy4JError\u001b[0m\u001b[0;34m(\u001b[0m\u001b[0;34m\"{0} does not exist in the JVM\"\u001b[0m\u001b[0;34m.\u001b[0m\u001b[0mformat\u001b[0m\u001b[0;34m(\u001b[0m\u001b[0mnew_fqn\u001b[0m\u001b[0;34m)\u001b[0m\u001b[0;34m)\u001b[0m\u001b[0;34m\u001b[0m\u001b[0;34m\u001b[0m\u001b[0m\n\u001b[0m\u001b[1;32m   1665\u001b[0m \u001b[0;34m\u001b[0m\u001b[0m\n\u001b[1;32m   1666\u001b[0m \u001b[0;34m\u001b[0m\u001b[0m\n",
            "\u001b[0;31mPy4JError\u001b[0m: py4j.reflection does not exist in the JVM"
          ]
        }
      ],
      "source": [
        "lr_model = pipeline.fit(train_df)"
      ]
    },
    {
      "cell_type": "code",
      "execution_count": null,
      "id": "4749bac3",
      "metadata": {
        "execution": {
          "iopub.execute_input": "2022-03-23T08:57:56.303222Z",
          "iopub.status.busy": "2022-03-23T08:57:56.302370Z",
          "iopub.status.idle": "2022-03-23T08:57:56.305061Z",
          "shell.execute_reply": "2022-03-23T08:57:56.305449Z",
          "shell.execute_reply.started": "2022-03-23T08:24:22.470513Z"
        },
        "papermill": {
          "duration": 0.171416,
          "end_time": "2022-03-23T08:57:56.305596",
          "exception": false,
          "start_time": "2022-03-23T08:57:56.134180",
          "status": "completed"
        },
        "tags": [],
        "id": "4749bac3"
      },
      "outputs": [],
      "source": [
        "lr_model"
      ]
    },
    {
      "cell_type": "code",
      "execution_count": null,
      "id": "e07370f5",
      "metadata": {
        "execution": {
          "iopub.execute_input": "2022-03-23T08:57:56.636406Z",
          "iopub.status.busy": "2022-03-23T08:57:56.635535Z",
          "iopub.status.idle": "2022-03-23T08:57:56.987438Z",
          "shell.execute_reply": "2022-03-23T08:57:56.986216Z",
          "shell.execute_reply.started": "2022-03-23T08:25:09.561064Z"
        },
        "papermill": {
          "duration": 0.5194,
          "end_time": "2022-03-23T08:57:56.987641",
          "exception": false,
          "start_time": "2022-03-23T08:57:56.468241",
          "status": "completed"
        },
        "tags": [],
        "id": "e07370f5"
      },
      "outputs": [],
      "source": [
        "# get prediction on test data\n",
        "predictions = lr_model.transform(test_df)"
      ]
    },
    {
      "cell_type": "code",
      "execution_count": null,
      "id": "d64892a3",
      "metadata": {
        "execution": {
          "iopub.execute_input": "2022-03-23T08:57:57.392357Z",
          "iopub.status.busy": "2022-03-23T08:57:57.391525Z",
          "iopub.status.idle": "2022-03-23T08:57:57.400793Z",
          "shell.execute_reply": "2022-03-23T08:57:57.400337Z",
          "shell.execute_reply.started": "2022-03-23T08:25:30.850709Z"
        },
        "papermill": {
          "duration": 0.181999,
          "end_time": "2022-03-23T08:57:57.400916",
          "exception": false,
          "start_time": "2022-03-23T08:57:57.218917",
          "status": "completed"
        },
        "tags": [],
        "id": "d64892a3"
      },
      "outputs": [],
      "source": [
        "predictions.columns"
      ]
    },
    {
      "cell_type": "code",
      "execution_count": null,
      "id": "e074441c",
      "metadata": {
        "execution": {
          "iopub.execute_input": "2022-03-23T08:57:57.738344Z",
          "iopub.status.busy": "2022-03-23T08:57:57.737453Z",
          "iopub.status.idle": "2022-03-23T08:57:58.495463Z",
          "shell.execute_reply": "2022-03-23T08:57:58.494841Z",
          "shell.execute_reply.started": "2022-03-23T08:26:30.594994Z"
        },
        "papermill": {
          "duration": 0.92743,
          "end_time": "2022-03-23T08:57:58.495657",
          "exception": false,
          "start_time": "2022-03-23T08:57:57.568227",
          "status": "completed"
        },
        "tags": [],
        "id": "e074441c"
      },
      "outputs": [],
      "source": [
        "predictions.select('description','rawPrediction', 'probability','category','label','prediction').show(10)"
      ]
    },
    {
      "cell_type": "markdown",
      "id": "9a19acce",
      "metadata": {
        "papermill": {
          "duration": 0.165806,
          "end_time": "2022-03-23T08:57:58.891213",
          "exception": false,
          "start_time": "2022-03-23T08:57:58.725407",
          "status": "completed"
        },
        "tags": [],
        "id": "9a19acce"
      },
      "source": [
        "### model evaluation\n",
        "+ Accuracy\n",
        "+ Precision\n",
        "+ F1Score\n",
        "+ etc"
      ]
    },
    {
      "cell_type": "code",
      "execution_count": null,
      "id": "811fc78d",
      "metadata": {
        "execution": {
          "iopub.execute_input": "2022-03-23T08:57:59.229580Z",
          "iopub.status.busy": "2022-03-23T08:57:59.228747Z",
          "iopub.status.idle": "2022-03-23T08:57:59.231088Z",
          "shell.execute_reply": "2022-03-23T08:57:59.230619Z",
          "shell.execute_reply.started": "2022-03-23T08:33:04.926386Z"
        },
        "papermill": {
          "duration": 0.171759,
          "end_time": "2022-03-23T08:57:59.231198",
          "exception": false,
          "start_time": "2022-03-23T08:57:59.059439",
          "status": "completed"
        },
        "tags": [],
        "id": "811fc78d"
      },
      "outputs": [],
      "source": [
        "from pyspark.ml.evaluation import MulticlassClassificationEvaluator"
      ]
    },
    {
      "cell_type": "code",
      "execution_count": null,
      "id": "781abe62",
      "metadata": {
        "execution": {
          "iopub.execute_input": "2022-03-23T08:57:59.570174Z",
          "iopub.status.busy": "2022-03-23T08:57:59.569362Z",
          "iopub.status.idle": "2022-03-23T08:58:00.953627Z",
          "shell.execute_reply": "2022-03-23T08:58:00.952921Z",
          "shell.execute_reply.started": "2022-03-23T08:33:05.826016Z"
        },
        "papermill": {
          "duration": 1.557154,
          "end_time": "2022-03-23T08:58:00.953826",
          "exception": false,
          "start_time": "2022-03-23T08:57:59.396672",
          "status": "completed"
        },
        "tags": [],
        "id": "781abe62"
      },
      "outputs": [],
      "source": [
        "evaluator = MulticlassClassificationEvaluator(predictionCol='prediction',\n",
        "                                             labelCol='label')\n",
        "\n",
        "evaluator.evaluate(predictions)*100"
      ]
    },
    {
      "cell_type": "markdown",
      "id": "e66bbf4e",
      "metadata": {
        "papermill": {
          "duration": 0.165293,
          "end_time": "2022-03-23T08:58:04.611611",
          "exception": false,
          "start_time": "2022-03-23T08:58:04.446318",
          "status": "completed"
        },
        "tags": [],
        "id": "e66bbf4e"
      },
      "source": [
        "#### making prediction on one sample\n",
        "+ sample as df\n",
        "+ apply pipeline"
      ]
    },
    {
      "cell_type": "code",
      "execution_count": null,
      "id": "2b4b62d7",
      "metadata": {
        "execution": {
          "iopub.execute_input": "2022-03-23T08:58:04.952399Z",
          "iopub.status.busy": "2022-03-23T08:58:04.951582Z",
          "iopub.status.idle": "2022-03-23T08:58:04.954104Z",
          "shell.execute_reply": "2022-03-23T08:58:04.953676Z",
          "shell.execute_reply.started": "2022-03-23T03:57:16.640916Z"
        },
        "papermill": {
          "duration": 0.175095,
          "end_time": "2022-03-23T08:58:04.954212",
          "exception": false,
          "start_time": "2022-03-23T08:58:04.779117",
          "status": "completed"
        },
        "tags": [],
        "id": "2b4b62d7"
      },
      "outputs": [],
      "source": [
        "from pyspark.sql.types import StringType"
      ]
    },
    {
      "cell_type": "code",
      "execution_count": null,
      "id": "60d3a339",
      "metadata": {
        "id": "60d3a339"
      },
      "outputs": [],
      "source": [
        "from pyspark.sql import SparkSession\n",
        "from pyspark.sql.types import StringType\n",
        "\n",
        "# Create a SparkSession\n",
        "spark = SparkSession.builder \\\n",
        "    .appName(\"Test11\") \\\n",
        "    .getOrCreate()\n"
      ]
    },
    {
      "cell_type": "code",
      "execution_count": null,
      "id": "26617a7a",
      "metadata": {
        "execution": {
          "iopub.execute_input": "2022-03-23T08:58:05.294316Z",
          "iopub.status.busy": "2022-03-23T08:58:05.293418Z",
          "iopub.status.idle": "2022-03-23T08:58:05.430312Z",
          "shell.execute_reply": "2022-03-23T08:58:05.429403Z",
          "shell.execute_reply.started": "2022-03-23T04:03:03.491704Z"
        },
        "papermill": {
          "duration": 0.309019,
          "end_time": "2022-03-23T08:58:05.430501",
          "exception": false,
          "start_time": "2022-03-23T08:58:05.121482",
          "status": "completed"
        },
        "tags": [],
        "id": "26617a7a"
      },
      "outputs": [],
      "source": [
        "test1 = spark.createDataFrame([\n",
        "    (\"Who will be Uttarakhand CM? BJP leaders hold meet today; Trivendra Rawat says have many options\",),\n",
        "    (\"AAP nominations for Rajya Sabha polls a 'betrayal' of Punjab: Navjot Singh Sidhu\",),\n",
        "    (\"Argentina Team Pulls Off Stunning Upset in Championship Match of Football\",),\n",
        "    (\"New Netflix movie Saw Series Breaks Records with Jaw-Dropping Premiere Weekend\",)\n",
        "], ['description'])\n",
        "\n",
        "# Collect the data\n"
      ]
    },
    {
      "cell_type": "code",
      "execution_count": null,
      "id": "d10d3e2d",
      "metadata": {
        "execution": {
          "iopub.execute_input": "2022-03-23T08:58:05.846427Z",
          "iopub.status.busy": "2022-03-23T08:58:05.845525Z",
          "iopub.status.idle": "2022-03-23T08:58:07.047571Z",
          "shell.execute_reply": "2022-03-23T08:58:07.046729Z",
          "shell.execute_reply.started": "2022-03-23T04:03:05.540358Z"
        },
        "papermill": {
          "duration": 1.382435,
          "end_time": "2022-03-23T08:58:07.047751",
          "exception": false,
          "start_time": "2022-03-23T08:58:05.665316",
          "status": "completed"
        },
        "tags": [],
        "id": "d10d3e2d"
      },
      "outputs": [],
      "source": [
        "prediction_test = lr_model.transform(test1)\n",
        "print(prediction_test)"
      ]
    },
    {
      "cell_type": "code",
      "execution_count": null,
      "id": "62d64389",
      "metadata": {
        "execution": {
          "iopub.execute_input": "2022-03-23T08:58:07.613976Z",
          "iopub.status.busy": "2022-03-23T08:58:07.613148Z",
          "iopub.status.idle": "2022-03-23T08:58:07.621355Z",
          "shell.execute_reply": "2022-03-23T08:58:07.620876Z",
          "shell.execute_reply.started": "2022-03-23T04:03:08.580493Z"
        },
        "papermill": {
          "duration": 0.260164,
          "end_time": "2022-03-23T08:58:07.621470",
          "exception": false,
          "start_time": "2022-03-23T08:58:07.361306",
          "status": "completed"
        },
        "tags": [],
        "id": "62d64389"
      },
      "outputs": [],
      "source": [
        "prediction_test.columns"
      ]
    },
    {
      "cell_type": "code",
      "execution_count": null,
      "id": "2aa11aa3",
      "metadata": {
        "execution": {
          "iopub.execute_input": "2022-03-23T08:58:08.023414Z",
          "iopub.status.busy": "2022-03-23T08:58:08.022546Z",
          "iopub.status.idle": "2022-03-23T08:58:08.543094Z",
          "shell.execute_reply": "2022-03-23T08:58:08.544035Z",
          "shell.execute_reply.started": "2022-03-23T04:03:09.490407Z"
        },
        "papermill": {
          "duration": 0.741917,
          "end_time": "2022-03-23T08:58:08.544293",
          "exception": false,
          "start_time": "2022-03-23T08:58:07.802376",
          "status": "completed"
        },
        "tags": [],
        "id": "2aa11aa3"
      },
      "outputs": [],
      "source": [
        "prediction_test.select('description','rawPrediction','probability','prediction').show()"
      ]
    },
    {
      "cell_type": "code",
      "execution_count": null,
      "id": "83df09a9",
      "metadata": {
        "execution": {
          "iopub.execute_input": "2022-03-23T08:58:09.133750Z",
          "iopub.status.busy": "2022-03-23T08:58:09.133086Z",
          "iopub.status.idle": "2022-03-23T08:58:09.135918Z",
          "shell.execute_reply": "2022-03-23T08:58:09.136318Z",
          "shell.execute_reply.started": "2022-03-23T04:03:10.621773Z"
        },
        "papermill": {
          "duration": 0.299893,
          "end_time": "2022-03-23T08:58:09.136449",
          "exception": false,
          "start_time": "2022-03-23T08:58:08.836556",
          "status": "completed"
        },
        "tags": [],
        "id": "83df09a9"
      },
      "outputs": [],
      "source": [
        "label_dict"
      ]
    },
    {
      "cell_type": "code",
      "source": [
        "lr_model.save(\"mypipeline\")"
      ],
      "metadata": {
        "id": "6YIbdZfdii98"
      },
      "id": "6YIbdZfdii98",
      "execution_count": null,
      "outputs": []
    },
    {
      "cell_type": "code",
      "source": [
        "  x!zip -r /content/file.zip /content/mypipeline"
      ],
      "metadata": {
        "id": "Ij_8pwzhNjTg"
      },
      "id": "Ij_8pwzhNjTg",
      "execution_count": null,
      "outputs": []
    },
    {
      "cell_type": "code",
      "source": [
        " +"
      ],
      "metadata": {
        "id": "4kmAk7wKPw9v"
      },
      "id": "4kmAk7wKPw9v",
      "execution_count": null,
      "outputs": []
    },
    {
      "cell_type": "code",
      "source": [],
      "metadata": {
        "id": "ENsHijY1ADAv"
      },
      "id": "ENsHijY1ADAv",
      "execution_count": null,
      "outputs": []
    }
  ],
  "metadata": {
    "kernelspec": {
      "display_name": "Python 3",
      "name": "python3"
    },
    "language_info": {
      "codemirror_mode": {
        "name": "ipython",
        "version": 3
      },
      "file_extension": ".py",
      "mimetype": "text/x-python",
      "name": "python",
      "nbconvert_exporter": "python",
      "pygments_lexer": "ipython3",
      "version": "3.7.12"
    },
    "papermill": {
      "default_parameters": {},
      "duration": 132.575315,
      "end_time": "2022-03-23T08:58:12.953192",
      "environment_variables": {},
      "exception": null,
      "input_path": "__notebook__.ipynb",
      "output_path": "__notebook__.ipynb",
      "parameters": {},
      "start_time": "2022-03-23T08:56:00.377877",
      "version": "2.3.3"
    },
    "colab": {
      "provenance": [],
      "gpuType": "T4",
      "include_colab_link": true
    },
    "accelerator": "GPU"
  },
  "nbformat": 4,
  "nbformat_minor": 5
}